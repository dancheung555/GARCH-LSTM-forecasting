{
 "cells": [
  {
   "cell_type": "markdown",
   "id": "961e2d4a",
   "metadata": {},
   "source": [
    "# GARCH LSTM Forecasting\n",
    "\n",
    "I will be making a GARCH-LSTM hybrid model to forecast S&P 500 returns using S&P 500 data and VIX downloaded from the yfinance package.\n",
    "\n",
    "I will get both of these data from yahoo finance."
   ]
  },
  {
   "cell_type": "markdown",
   "id": "5e2a878f",
   "metadata": {},
   "source": [
    "### Importing libraries and packages"
   ]
  },
  {
   "cell_type": "code",
   "execution_count": 20,
   "id": "80878f4e",
   "metadata": {},
   "outputs": [],
   "source": [
    "import numpy as np\n",
    "import pandas as pd\n",
    "\n",
    "import yfinance\n",
    "\n",
    "import torch\n",
    "from torch import optim\n",
    "import torch.nn as nn\n",
    "from torch.utils.data import Dataset, DataLoader\n",
    "\n",
    "from sklearn.metrics import r2_score, mean_squared_error\n",
    "\n",
    "from arch import arch_model"
   ]
  },
  {
   "cell_type": "markdown",
   "id": "c9827ffb",
   "metadata": {},
   "source": [
    "### Datasets"
   ]
  },
  {
   "cell_type": "code",
   "execution_count": 21,
   "id": "c5281e5d",
   "metadata": {},
   "outputs": [
    {
     "name": "stderr",
     "output_type": "stream",
     "text": [
      "[*********************100%***********************]  1 of 1 completed\n",
      "[*********************100%***********************]  1 of 1 completed"
     ]
    },
    {
     "name": "stdout",
     "output_type": "stream",
     "text": [
      "0\n",
      "            Adj_Close  Close   High    Low   Open  Volume\n",
      "Date                                                     \n",
      "2005-01-03      14.08  14.08  14.23  13.25  13.39       0\n",
      "2005-01-04      13.98  13.98  14.45  13.93  14.01       0\n",
      "2005-01-05      14.09  14.09  14.09  13.26  13.98       0\n",
      "2005-01-06      13.58  13.58  14.09  13.33  14.09       0\n",
      "2005-01-07      13.49  13.49  13.51  12.94  13.47       0\n"
     ]
    },
    {
     "name": "stderr",
     "output_type": "stream",
     "text": [
      "\n"
     ]
    },
    {
     "data": {
      "application/vnd.microsoft.datawrangler.viewer.v0+json": {
       "columns": [
        {
         "name": "Date",
         "rawType": "datetime64[ns]",
         "type": "datetime"
        },
        {
         "name": "Adj_Close",
         "rawType": "float64",
         "type": "float"
        },
        {
         "name": "Close",
         "rawType": "float64",
         "type": "float"
        },
        {
         "name": "High",
         "rawType": "float64",
         "type": "float"
        },
        {
         "name": "Low",
         "rawType": "float64",
         "type": "float"
        },
        {
         "name": "Open",
         "rawType": "float64",
         "type": "float"
        },
        {
         "name": "Volume",
         "rawType": "int64",
         "type": "integer"
        }
       ],
       "ref": "7905dc26-fffe-4651-b7bd-d36ad90106ad",
       "rows": [
        [
         "2005-01-03 00:00:00",
         "1202.0799560546875",
         "1202.0799560546875",
         "1217.800048828125",
         "1200.3199462890625",
         "1211.9200439453125",
         "1510800000"
        ],
        [
         "2005-01-04 00:00:00",
         "1188.050048828125",
         "1188.050048828125",
         "1205.8399658203125",
         "1185.3900146484375",
         "1202.0799560546875",
         "1721000000"
        ],
        [
         "2005-01-05 00:00:00",
         "1183.739990234375",
         "1183.739990234375",
         "1192.72998046875",
         "1183.719970703125",
         "1188.050048828125",
         "1738900000"
        ],
        [
         "2005-01-06 00:00:00",
         "1187.8900146484375",
         "1187.8900146484375",
         "1191.6300048828125",
         "1183.27001953125",
         "1183.739990234375",
         "1569100000"
        ],
        [
         "2005-01-07 00:00:00",
         "1186.18994140625",
         "1186.18994140625",
         "1192.199951171875",
         "1182.1600341796875",
         "1187.8900146484375",
         "1477900000"
        ]
       ],
       "shape": {
        "columns": 6,
        "rows": 5
       }
      },
      "text/html": [
       "<div>\n",
       "<style scoped>\n",
       "    .dataframe tbody tr th:only-of-type {\n",
       "        vertical-align: middle;\n",
       "    }\n",
       "\n",
       "    .dataframe tbody tr th {\n",
       "        vertical-align: top;\n",
       "    }\n",
       "\n",
       "    .dataframe thead th {\n",
       "        text-align: right;\n",
       "    }\n",
       "</style>\n",
       "<table border=\"1\" class=\"dataframe\">\n",
       "  <thead>\n",
       "    <tr style=\"text-align: right;\">\n",
       "      <th></th>\n",
       "      <th>Adj_Close</th>\n",
       "      <th>Close</th>\n",
       "      <th>High</th>\n",
       "      <th>Low</th>\n",
       "      <th>Open</th>\n",
       "      <th>Volume</th>\n",
       "    </tr>\n",
       "    <tr>\n",
       "      <th>Date</th>\n",
       "      <th></th>\n",
       "      <th></th>\n",
       "      <th></th>\n",
       "      <th></th>\n",
       "      <th></th>\n",
       "      <th></th>\n",
       "    </tr>\n",
       "  </thead>\n",
       "  <tbody>\n",
       "    <tr>\n",
       "      <th>2005-01-03</th>\n",
       "      <td>1202.079956</td>\n",
       "      <td>1202.079956</td>\n",
       "      <td>1217.800049</td>\n",
       "      <td>1200.319946</td>\n",
       "      <td>1211.920044</td>\n",
       "      <td>1510800000</td>\n",
       "    </tr>\n",
       "    <tr>\n",
       "      <th>2005-01-04</th>\n",
       "      <td>1188.050049</td>\n",
       "      <td>1188.050049</td>\n",
       "      <td>1205.839966</td>\n",
       "      <td>1185.390015</td>\n",
       "      <td>1202.079956</td>\n",
       "      <td>1721000000</td>\n",
       "    </tr>\n",
       "    <tr>\n",
       "      <th>2005-01-05</th>\n",
       "      <td>1183.739990</td>\n",
       "      <td>1183.739990</td>\n",
       "      <td>1192.729980</td>\n",
       "      <td>1183.719971</td>\n",
       "      <td>1188.050049</td>\n",
       "      <td>1738900000</td>\n",
       "    </tr>\n",
       "    <tr>\n",
       "      <th>2005-01-06</th>\n",
       "      <td>1187.890015</td>\n",
       "      <td>1187.890015</td>\n",
       "      <td>1191.630005</td>\n",
       "      <td>1183.270020</td>\n",
       "      <td>1183.739990</td>\n",
       "      <td>1569100000</td>\n",
       "    </tr>\n",
       "    <tr>\n",
       "      <th>2005-01-07</th>\n",
       "      <td>1186.189941</td>\n",
       "      <td>1186.189941</td>\n",
       "      <td>1192.199951</td>\n",
       "      <td>1182.160034</td>\n",
       "      <td>1187.890015</td>\n",
       "      <td>1477900000</td>\n",
       "    </tr>\n",
       "  </tbody>\n",
       "</table>\n",
       "</div>"
      ],
      "text/plain": [
       "              Adj_Close        Close         High          Low         Open  \\\n",
       "Date                                                                          \n",
       "2005-01-03  1202.079956  1202.079956  1217.800049  1200.319946  1211.920044   \n",
       "2005-01-04  1188.050049  1188.050049  1205.839966  1185.390015  1202.079956   \n",
       "2005-01-05  1183.739990  1183.739990  1192.729980  1183.719971  1188.050049   \n",
       "2005-01-06  1187.890015  1187.890015  1191.630005  1183.270020  1183.739990   \n",
       "2005-01-07  1186.189941  1186.189941  1192.199951  1182.160034  1187.890015   \n",
       "\n",
       "                Volume  \n",
       "Date                    \n",
       "2005-01-03  1510800000  \n",
       "2005-01-04  1721000000  \n",
       "2005-01-05  1738900000  \n",
       "2005-01-06  1569100000  \n",
       "2005-01-07  1477900000  "
      ]
     },
     "execution_count": 21,
     "metadata": {},
     "output_type": "execute_result"
    }
   ],
   "source": [
    "start_date = '2005-01-01'\n",
    "end_date = '2025-01-01'\n",
    "\n",
    "vix = yfinance.download('^VIX', start=start_date, end=end_date, interval='1d', auto_adjust=False)\n",
    "vix.columns = ['Adj_Close', 'Close', 'High', 'Low', 'Open', 'Volume']\n",
    "vix.drop(columns='Volume')\n",
    "print(vix.isna().sum().sum())\n",
    "print(vix.head())\n",
    "sp500 = yfinance.download('^GSPC', start=start_date, end=end_date, interval='1d', auto_adjust=False)\n",
    "sp500.columns = ['Adj_Close', 'Close', 'High', 'Low', 'Open', 'Volume']\n",
    "\n",
    "sp500.head()\n",
    "\n"
   ]
  },
  {
   "cell_type": "markdown",
   "id": "2b9aa542",
   "metadata": {},
   "source": [
    "### Model initialization"
   ]
  },
  {
   "cell_type": "markdown",
   "id": "593db6b0",
   "metadata": {},
   "source": [
    "## Hybrid GARCH-LSTM Model\n",
    "This model combines GARCH (baseline volatility) and LSTM (nonlinear corrections using GARCH residuals and VIX)."
   ]
  },
  {
   "cell_type": "code",
   "execution_count": 22,
   "id": "0c57ee3f",
   "metadata": {},
   "outputs": [],
   "source": [
    "# to be implemented, somehow, (I'll try T_T)"
   ]
  },
  {
   "cell_type": "markdown",
   "id": "2bd8ab2d",
   "metadata": {},
   "source": [
    "LSTM model: (below is from a previous LSTM model I made)"
   ]
  },
  {
   "cell_type": "code",
   "execution_count": null,
   "id": "a7a8a0ec",
   "metadata": {},
   "outputs": [],
   "source": [
    "class LSTMModel(nn.Module):\n",
    "    def __init__(self, input_size=1, hidden_size=64, num_layers=2):\n",
    "        super().__init__()\n",
    "        self.lstm = nn.LSTM(input_size, hidden_size, num_layers, batch_first=True)\n",
    "        self.fc = nn.Linear(hidden_size, 1)\n",
    "    def forward(self, x):\n",
    "        out, _ = self.lstm(x)\n",
    "        out = out[:, -1, :]  # Take last output\n",
    "        out = self.fc(out)\n",
    "        return out\n",
    "\n",
    "device = torch.device('cuda' if torch.cuda.is_available() else 'cpu')\n",
    "\n",
    "model = LSTMModel().to(device)\n",
    "criterion = nn.MSELoss()\n",
    "optimizer = torch.optim.Adam(model.parameters(), lr=1e-3, weight_decay=1e-5)\n"
   ]
  },
  {
   "cell_type": "markdown",
   "id": "be7d4d6b",
   "metadata": {},
   "source": [
    "Training"
   ]
  },
  {
   "cell_type": "code",
   "execution_count": null,
   "id": "ce51c5a3",
   "metadata": {},
   "outputs": [],
   "source": [
    "EPOCHS = 100\n",
    "train_losses = []\n",
    "for epoch in range(1, EPOCHS+1):\n",
    "    model.train()\n",
    "    epoch_loss = 0\n",
    "    for xb, yb in train_loader:\n",
    "        xb = xb.to(device)\n",
    "        yb = yb.to(device)\n",
    "        xb = xb.view(xb.size(0), xb.size(1), 1)  # (batch, seq, 1)\n",
    "\n",
    "        optimizer.zero_grad()\n",
    "        out = model(xb)\n",
    "        loss = criterion(out, yb)\n",
    "        loss.backward()\n",
    "        optimizer.step()\n",
    "        epoch_loss = epoch_loss + loss.item()*xb.size(0)\n",
    "    \n",
    "    avg_loss = epoch_loss / len(train_loader.dataset)\n",
    "    train_losses.append(avg_loss)\n",
    "    print(f\"Epoch {epoch}/{EPOCHS}, Training Loss: {avg_loss:.6f}\")"
   ]
  },
  {
   "cell_type": "markdown",
   "id": "141f7476",
   "metadata": {},
   "source": [
    "Eval"
   ]
  },
  {
   "cell_type": "code",
   "execution_count": null,
   "id": "886283e7",
   "metadata": {},
   "outputs": [],
   "source": [
    "model.eval()\n",
    "with torch.no_grad():\n",
    "    X_test_tensor = torch.tensor(X_test, dtype=torch.float32).to(device)\n",
    "    X_test_tensor = X_test_tensor.view(X_test_tensor.size(0), X_test_tensor.size(1), 1)\n",
    "    preds = model(X_test_tensor).cpu().numpy()\n",
    "    preds_inv = scaler.inverse_transform(preds)\n",
    "    y_test_inv = scaler.inverse_transform(y_test)\n",
    "\n",
    "r2 = r2_score(y_test_inv, preds_inv)\n",
    "rmse = np.sqrt(mean_squared_error(y_test_inv, preds_inv))\n",
    "print(f\"R^2: {r2:.4f}\")\n",
    "print(f\"RMSE: {rmse:.4f}\")"
   ]
  }
 ],
 "metadata": {
  "kernelspec": {
   "display_name": "base",
   "language": "python",
   "name": "python3"
  },
  "language_info": {
   "codemirror_mode": {
    "name": "ipython",
    "version": 3
   },
   "file_extension": ".py",
   "mimetype": "text/x-python",
   "name": "python",
   "nbconvert_exporter": "python",
   "pygments_lexer": "ipython3",
   "version": "3.12.7"
  }
 },
 "nbformat": 4,
 "nbformat_minor": 5
}

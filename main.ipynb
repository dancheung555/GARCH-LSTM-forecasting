{
 "cells": [
  {
   "cell_type": "markdown",
   "id": "961e2d4a",
   "metadata": {},
   "source": [
    "# GARCH LSTM Forecasting\n",
    "\n",
    "I will be making a model to forecast S&P 500 returns as well as using CBOE Volatility Index.\n",
    "\n",
    "I will get both of these data from yahoo finance."
   ]
  },
  {
   "cell_type": "markdown",
   "id": "5e2a878f",
   "metadata": {},
   "source": [
    "### Importing libraries and packages"
   ]
  },
  {
   "cell_type": "code",
   "execution_count": 50,
   "id": "80878f4e",
   "metadata": {},
   "outputs": [],
   "source": [
    "import numpy as np\n",
    "import pandas as pd\n",
    "\n",
    "import yfinance\n",
    "from sklearn.preprocessing import StandardScaler\n",
    "\n",
    "import torch\n",
    "from torch import optim\n",
    "from torch import nn\n",
    "\n",
    "from arch import arch_model"
   ]
  },
  {
   "cell_type": "markdown",
   "id": "c9827ffb",
   "metadata": {},
   "source": [
    "### Datasets"
   ]
  },
  {
   "cell_type": "code",
   "execution_count": 59,
   "id": "c5281e5d",
   "metadata": {},
   "outputs": [
    {
     "name": "stderr",
     "output_type": "stream",
     "text": [
      "[*********************100%***********************]  1 of 1 completed\n",
      "[*********************100%***********************]  1 of 1 completed\n",
      "[*********************100%***********************]  1 of 1 completed\n",
      "\n"
     ]
    },
    {
     "data": {
      "application/vnd.microsoft.datawrangler.viewer.v0+json": {
       "columns": [
        {
         "name": "observation_date",
         "rawType": "datetime64[ns]",
         "type": "datetime"
        },
        {
         "name": "CPI_Rate",
         "rawType": "float64",
         "type": "float"
        }
       ],
       "ref": "f33d90b1-aa21-4931-bf39-8c382f1ae068",
       "rows": [
        [
         "2005-01-01 00:00:00",
         "191.6"
        ],
        [
         "2005-02-01 00:00:00",
         "192.4"
        ],
        [
         "2005-03-01 00:00:00",
         "193.1"
        ],
        [
         "2005-04-01 00:00:00",
         "193.7"
        ],
        [
         "2005-05-01 00:00:00",
         "193.6"
        ]
       ],
       "shape": {
        "columns": 1,
        "rows": 5
       }
      },
      "text/html": [
       "<div>\n",
       "<style scoped>\n",
       "    .dataframe tbody tr th:only-of-type {\n",
       "        vertical-align: middle;\n",
       "    }\n",
       "\n",
       "    .dataframe tbody tr th {\n",
       "        vertical-align: top;\n",
       "    }\n",
       "\n",
       "    .dataframe thead th {\n",
       "        text-align: right;\n",
       "    }\n",
       "</style>\n",
       "<table border=\"1\" class=\"dataframe\">\n",
       "  <thead>\n",
       "    <tr style=\"text-align: right;\">\n",
       "      <th></th>\n",
       "      <th>CPI_Rate</th>\n",
       "    </tr>\n",
       "    <tr>\n",
       "      <th>observation_date</th>\n",
       "      <th></th>\n",
       "    </tr>\n",
       "  </thead>\n",
       "  <tbody>\n",
       "    <tr>\n",
       "      <th>2005-01-01</th>\n",
       "      <td>191.6</td>\n",
       "    </tr>\n",
       "    <tr>\n",
       "      <th>2005-02-01</th>\n",
       "      <td>192.4</td>\n",
       "    </tr>\n",
       "    <tr>\n",
       "      <th>2005-03-01</th>\n",
       "      <td>193.1</td>\n",
       "    </tr>\n",
       "    <tr>\n",
       "      <th>2005-04-01</th>\n",
       "      <td>193.7</td>\n",
       "    </tr>\n",
       "    <tr>\n",
       "      <th>2005-05-01</th>\n",
       "      <td>193.6</td>\n",
       "    </tr>\n",
       "  </tbody>\n",
       "</table>\n",
       "</div>"
      ],
      "text/plain": [
       "                  CPI_Rate\n",
       "observation_date          \n",
       "2005-01-01           191.6\n",
       "2005-02-01           192.4\n",
       "2005-03-01           193.1\n",
       "2005-04-01           193.7\n",
       "2005-05-01           193.6"
      ]
     },
     "execution_count": 59,
     "metadata": {},
     "output_type": "execute_result"
    }
   ],
   "source": [
    "start_date = \"2005-01-01\"\n",
    "end_date = \"2025-01-01\"\n",
    "\n",
    "vix = yfinance.download('^VIX', start=start_date, end=end_date, interval='1d', auto_adjust=False)\n",
    "vix.columns = ['Adj_Close', 'Close', 'High', 'Low', 'Open', 'Volume']\n",
    "vix.index = pd.to_datetime(vix.index)\n",
    "vix.dropna(inplace=True)\n",
    "\n",
    "\n",
    "sp500 = yfinance.download('^GSPC', start=start_date, end=end_date, interval='1d', auto_adjust=False)\n",
    "sp500.columns = ['Adj_Close', 'Close', 'High', 'Low', 'Open', 'Volume']\n",
    "sp500.index = pd.to_datetime(sp500.index)\n",
    "\n",
    "# Preprocess returns: log returns -> detrending -> standardize\n",
    "sp500['Log_Returns'] = np.log(sp500['Adj_Close']).diff()\n",
    "sp500['Log_Returns'] = sp500['Log_Returns'] - sp500['Log_Returns'].mean()  # Detrend\n",
    "returns_scaler = StandardScaler()\n",
    "sp500['Log_Returns'] = returns_scaler.fit_transform(sp500[['Log_Returns']].fillna(0))\n",
    "\n",
    "sp500['Volatility'] = sp500['High']/sp500['Low'] - 1\n",
    "sp500.dropna(inplace=True)\n",
    "\n",
    "\n",
    "fed_rate = pd.read_csv(\"EFFR.csv\")\n",
    "fed_rate.columns = ['observation_date', 'Fed_Rate']\n",
    "fed_rate['observation_date'] = pd.to_datetime(fed_rate['observation_date'])\n",
    "fed_rate = fed_rate.set_index('observation_date')\n",
    "fed_rate.dropna(inplace=True)\n",
    "\n",
    "\n",
    "cpi = pd.read_csv(\"CPIAUCSL.csv\")\n",
    "cpi.columns = ['observation_date', 'CPI_Rate']\n",
    "cpi['observation_date'] = pd.to_datetime(cpi['observation_date'])\n",
    "cpi = cpi.set_index('observation_date')\n",
    "cpi.dropna(inplace=True)\n",
    "\n",
    "cpi.head()"
   ]
  },
  {
   "cell_type": "markdown",
   "id": "2b9aa542",
   "metadata": {},
   "source": [
    "### Model initialization"
   ]
  },
  {
   "cell_type": "markdown",
   "id": "593db6b0",
   "metadata": {},
   "source": [
    "## Hybrid GARCH-LSTM Model\n",
    "This model combines GARCH (baseline volatility) and LSTM (nonlinear corrections using GARCH residuals and VIX)."
   ]
  },
  {
   "cell_type": "code",
   "execution_count": null,
   "id": "0c57ee3f",
   "metadata": {},
   "outputs": [],
   "source": [
    "# to be implemented, somehow, (I'll try T_T)"
   ]
  }
 ],
 "metadata": {
  "kernelspec": {
   "display_name": "base",
   "language": "python",
   "name": "python3"
  },
  "language_info": {
   "codemirror_mode": {
    "name": "ipython",
    "version": 3
   },
   "file_extension": ".py",
   "mimetype": "text/x-python",
   "name": "python",
   "nbconvert_exporter": "python",
   "pygments_lexer": "ipython3",
   "version": "3.12.7"
  }
 },
 "nbformat": 4,
 "nbformat_minor": 5
}
